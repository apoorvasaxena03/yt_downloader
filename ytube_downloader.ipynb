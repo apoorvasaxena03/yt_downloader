{
 "cells": [
  {
   "cell_type": "code",
   "execution_count": 1,
   "id": "e2a4e97d",
   "metadata": {},
   "outputs": [],
   "source": [
    "from ytdl_core.core import download_video, download_playlist, resume_download"
   ]
  },
  {
   "cell_type": "code",
   "execution_count": 2,
   "id": "ccd80371",
   "metadata": {},
   "outputs": [
    {
     "name": "stdout",
     "output_type": "stream",
     "text": [
      "\n",
      "📁 Playlist: Petroleum Engineering\n",
      "🔢 Total videos: 24\n",
      "💾 19 videos saved for later.\n"
     ]
    }
   ],
   "source": [
    "# Download a single video\n",
    "download_playlist(\"https://www.youtube.com/playlist?list=PLdrxZBJF1X4rXd54FxDPPqSJaRLTpYpEN\", \n",
    "                  r\"C:\\Users\\apoorva.saxena\\Desktop\\VIDEOS\\YouTube\\PHDWin - Mire Petroleum Consultants\")"
   ]
  },
  {
   "cell_type": "code",
   "execution_count": 3,
   "id": "e05f52a2",
   "metadata": {},
   "outputs": [
    {
     "name": "stdout",
     "output_type": "stream",
     "text": [
      "🔁 Resuming playlist: https://www.youtube.com/playlist?list=PLdrxZBJF1X4rXd54FxDPPqSJaRLTpYpEN\n",
      "19 videos remaining.\n"
     ]
    },
    {
     "ename": "FileNotFoundError",
     "evalue": "[WinError 2] The system cannot find the file specified: 'download_progress.json'",
     "output_type": "error",
     "traceback": [
      "\u001b[31m---------------------------------------------------------------------------\u001b[39m",
      "\u001b[31mFileNotFoundError\u001b[39m                         Traceback (most recent call last)",
      "\u001b[36mCell\u001b[39m\u001b[36m \u001b[39m\u001b[32mIn[3]\u001b[39m\u001b[32m, line 1\u001b[39m\n\u001b[32m----> \u001b[39m\u001b[32m1\u001b[39m \u001b[43mresume_download\u001b[49m\u001b[43m(\u001b[49m\u001b[33;43mr\u001b[39;49m\u001b[33;43m\"\u001b[39;49m\u001b[33;43mC:\u001b[39;49m\u001b[33;43m\\\u001b[39;49m\u001b[33;43mUsers\u001b[39;49m\u001b[33;43m\\\u001b[39;49m\u001b[33;43mapoorva.saxena\u001b[39;49m\u001b[33;43m\\\u001b[39;49m\u001b[33;43mDesktop\u001b[39;49m\u001b[33;43m\\\u001b[39;49m\u001b[33;43mVIDEOS\u001b[39;49m\u001b[33;43m\\\u001b[39;49m\u001b[33;43mYouTube\u001b[39;49m\u001b[33;43m\\\u001b[39;49m\u001b[33;43mPHDWin - Mire Petroleum Consultants\u001b[39;49m\u001b[33;43m\"\u001b[39;49m\u001b[43m,\u001b[49m\u001b[33;43m\"\u001b[39;49m\u001b[33;43mhttps://www.youtube.com/playlist?list=PLdrxZBJF1X4rXd54FxDPPqSJaRLTpYpEN\u001b[39;49m\u001b[33;43m\"\u001b[39;49m\u001b[43m)\u001b[49m\n",
      "\u001b[36mFile \u001b[39m\u001b[32mc:\\Users\\apoorva.saxena\\Desktop\\Python_Conda_Projects\\yt_downloader\\ytdl_core\\core.py:200\u001b[39m, in \u001b[36mresume_download\u001b[39m\u001b[34m(output_path, playlist_url_or_id)\u001b[39m\n\u001b[32m    198\u001b[39m     \u001b[38;5;28mprint\u001b[39m(\u001b[33mf\u001b[39m\u001b[33m\"\u001b[39m\u001b[33m💾 \u001b[39m\u001b[38;5;132;01m{\u001b[39;00m\u001b[38;5;28mlen\u001b[39m(new_remaining)\u001b[38;5;132;01m}\u001b[39;00m\u001b[33m videos still remaining.\u001b[39m\u001b[33m\"\u001b[39m)\n\u001b[32m    199\u001b[39m \u001b[38;5;28;01melse\u001b[39;00m:\n\u001b[32m--> \u001b[39m\u001b[32m200\u001b[39m     \u001b[43mPath\u001b[49m\u001b[43m(\u001b[49m\u001b[33;43m\"\u001b[39;49m\u001b[33;43mdownload_progress.json\u001b[39;49m\u001b[33;43m\"\u001b[39;49m\u001b[43m)\u001b[49m\u001b[43m.\u001b[49m\u001b[43munlink\u001b[49m\u001b[43m(\u001b[49m\u001b[43m)\u001b[49m\n\u001b[32m    201\u001b[39m     \u001b[38;5;28mprint\u001b[39m(\u001b[33m\"\u001b[39m\u001b[33m✅ All videos downloaded.\u001b[39m\u001b[33m\"\u001b[39m)\n",
      "\u001b[36mFile \u001b[39m\u001b[32mc:\\Users\\apoorva.saxena\\Desktop\\Python_Conda_Projects\\yt_downloader\\venv\\Lib\\pathlib\\_local.py:746\u001b[39m, in \u001b[36mPath.unlink\u001b[39m\u001b[34m(self, missing_ok)\u001b[39m\n\u001b[32m    741\u001b[39m \u001b[38;5;250m\u001b[39m\u001b[33;03m\"\"\"\u001b[39;00m\n\u001b[32m    742\u001b[39m \u001b[33;03mRemove this file or link.\u001b[39;00m\n\u001b[32m    743\u001b[39m \u001b[33;03mIf the path is a directory, use rmdir() instead.\u001b[39;00m\n\u001b[32m    744\u001b[39m \u001b[33;03m\"\"\"\u001b[39;00m\n\u001b[32m    745\u001b[39m \u001b[38;5;28;01mtry\u001b[39;00m:\n\u001b[32m--> \u001b[39m\u001b[32m746\u001b[39m     \u001b[43mos\u001b[49m\u001b[43m.\u001b[49m\u001b[43munlink\u001b[49m\u001b[43m(\u001b[49m\u001b[38;5;28;43mself\u001b[39;49m\u001b[43m)\u001b[49m\n\u001b[32m    747\u001b[39m \u001b[38;5;28;01mexcept\u001b[39;00m \u001b[38;5;167;01mFileNotFoundError\u001b[39;00m:\n\u001b[32m    748\u001b[39m     \u001b[38;5;28;01mif\u001b[39;00m \u001b[38;5;129;01mnot\u001b[39;00m missing_ok:\n",
      "\u001b[31mFileNotFoundError\u001b[39m: [WinError 2] The system cannot find the file specified: 'download_progress.json'"
     ]
    }
   ],
   "source": [
    "resume_download(r\"C:\\Users\\apoorva.saxena\\Desktop\\VIDEOS\\YouTube\\PHDWin - Mire Petroleum Consultants\",\"https://www.youtube.com/playlist?list=PLdrxZBJF1X4rXd54FxDPPqSJaRLTpYpEN\")"
   ]
  }
 ],
 "metadata": {
  "kernelspec": {
   "display_name": "Python 3",
   "language": "python",
   "name": "python3"
  },
  "language_info": {
   "codemirror_mode": {
    "name": "ipython",
    "version": 3
   },
   "file_extension": ".py",
   "mimetype": "text/x-python",
   "name": "python",
   "nbconvert_exporter": "python",
   "pygments_lexer": "ipython3",
   "version": "3.13.4"
  }
 },
 "nbformat": 4,
 "nbformat_minor": 5
}
