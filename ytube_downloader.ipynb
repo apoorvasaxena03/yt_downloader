{
 "cells": [
  {
   "cell_type": "code",
   "execution_count": 1,
   "id": "e2a4e97d",
   "metadata": {},
   "outputs": [],
   "source": [
    "from ytdl_core.core import download_video, download_playlist, resume_download"
   ]
  },
  {
   "cell_type": "code",
   "execution_count": 2,
   "id": "e05f52a2",
   "metadata": {},
   "outputs": [
    {
     "name": "stdout",
     "output_type": "stream",
     "text": [
      "🔁 Resuming playlist: https://www.youtube.com/playlist?list=PLESUZgR8S4DeUkmdkM6GXNsw2gEBmz3in\n",
      "5 videos remaining.\n"
     ]
    }
   ],
   "source": [
    "resume_download(r\"C:\\Users\\apoorva.saxena\\Desktop\\VIDEOS\\YouTube\\A&D Evaluation\",\"https://www.youtube.com/playlist?list=PLESUZgR8S4DeUkmdkM6GXNsw2gEBmz3in\")"
   ]
  },
  {
   "cell_type": "code",
   "execution_count": 4,
   "id": "1194d4ad",
   "metadata": {},
   "outputs": [],
   "source": [
    "download_video(\"https://youtu.be/pInsd59cxmA\",r\"C:\\Users\\apoorva.saxena\\Desktop\\VIDEOS\\YouTube\\A&D Evaluation\")"
   ]
  }
 ],
 "metadata": {
  "kernelspec": {
   "display_name": "Python 3",
   "language": "python",
   "name": "python3"
  },
  "language_info": {
   "codemirror_mode": {
    "name": "ipython",
    "version": 3
   },
   "file_extension": ".py",
   "mimetype": "text/x-python",
   "name": "python",
   "nbconvert_exporter": "python",
   "pygments_lexer": "ipython3",
   "version": "3.13.4"
  }
 },
 "nbformat": 4,
 "nbformat_minor": 5
}
